{
 "cells": [
  {
   "cell_type": "code",
   "execution_count": 68,
   "metadata": {},
   "outputs": [],
   "source": [
    "import csv\n",
    "import xml.etree.ElementTree as ET\n",
    "import time\n",
    "import io\n",
    "from tqdm import tqdm\n",
    "import pandas as pd\n"
   ]
  },
  {
   "cell_type": "code",
   "execution_count": 79,
   "metadata": {},
   "outputs": [],
   "source": [
    "DRUGBANK_DATABASES:list() = [\n",
    "    (0,\"DB 3.0\",\"database/3.0/drugbank.xml\",2013),\n",
    "    (1,\"DB 4.1\",\"database/4.1/drugbank.xml\",2014), #not sure about year\n",
    "    (2,\"DB 4.2\",\"database/4.2/drugbank.xml\",2015), #not sure about year\n",
    "    (3,\"DB 4.3\",\"database/4.3/drugbank.xml\",2015),\n",
    "    (4,\"DB 4.5\",\"database/4.5.0/drugbank.xml\",2016),\n",
    "    (5,\" DB 5.0\",\"database/5.0.0/drugbank.xml\",2016),\n",
    "    (6,\"DB 5.0.1\",\"database/5.0.1/drugbank.xml\",2016),\n",
    "    (7,\"DB 5.0.2\",\"database/5.0.2/drugbank.xml\",2016),\n",
    "    (8,\"DB 5.0.3\",\"database/5.0.3/drugbank.xml\",2016),\n",
    "    (9,\"DB 5.0.4\",\"database/5.0.4/full_database.xml\",2017),\n",
    "    (10,\"DB 5.0.5\",\"database/5.0.5/full_database.xml\",2017),\n",
    "    (11,\"DB 5.0.6\",\"database/5.0.6/full_database.xml\",2017),\n",
    "    (12,\"DB 5.0.7\",\"database/5.0.7/full_database.xml\",2017),\n",
    "    (13,\"DB 5.0.8\",\"database/5.0.8/full_database.xml\",2017),\n",
    "    (14,\"DB 5.0.9\",\"database/5.0.9/full_database.xml\",2017), \n",
    "    (15,\"DB 5.0.10\",\"database/5.0.10/full_database.xml\",2017),\n",
    "    (16,\"DB 5.0.11\",\"database/5.0.11/full_database.xml\",2017),\n",
    "    (17,\"DB 5.1.0\",\"database/5.1.0/full_database.xml\",2018),\n",
    "    (18,\"DB 5.1.1\",\"database/5.1.1/full_database.xml\",2018),\n",
    "    (19,\"DB 5.1.2\",\"database/5.1.2/full_database.xml\",2018),\n",
    "    (20,\"DB 5.1.3\",\"database/5.1.3/full_database.xml\",2019),\n",
    "    (21,\"DB 5.1.4\",\"database/5.1.4/full_database.xml\",2019),\n",
    "    (22,\"DB 5.1.5\",\"database/5.1.5/full_database.xml\",2020),\n",
    "    (23,\"DB 5.1.6\",\"database/5.1.6/full_database.xml\",2020),\n",
    "    (24,\"DB 5.1.7\",\"database/5.1.7/full_database.xml\",2020),\n",
    "    (25,\"DB 5.1.8\",\"database/5.1.8/full_database.xml\",2021)\n",
    "]"
   ]
  },
  {
   "cell_type": "code",
   "execution_count": 80,
   "metadata": {},
   "outputs": [],
   "source": [
    "def search_drug_in_list(drug_id, drug_list):\n",
    "    for item in drug_list:\n",
    "        if item[0]==drug_id:\n",
    "            return True\n",
    "    \n",
    "    return False"
   ]
  },
  {
   "cell_type": "code",
   "execution_count": 83,
   "metadata": {},
   "outputs": [],
   "source": [
    "def get_approved_drugs_interactions(db_entry):\n",
    "    try:\n",
    "        tree = ET.parse(db_entry[2])\n",
    "        root = tree.getroot()\n",
    "        group_focus = \"approved\"\n",
    "        drugs = list(root)\n",
    "        database_name = db_entry[1].replace(\".\",\"_\")\n",
    "        database_name_trim = database_name.replace(\" \",\"\")\n",
    "        output_file = \"database/approved_only/\"+database_name_trim+\"_approved_drugs.csv\"\n",
    "        with io.open(output_file, \"w\", encoding=\"utf-8\", newline='') as csv_file3:\n",
    "            results_writer_cd = csv.writer(csv_file3, delimiter=',', quotechar='\"', quoting=csv.QUOTE_MINIMAL)\n",
    "            drug_list = []\n",
    "            print(\"Parsing {0}\".format(db_entry[2]))\n",
    "            for i in tqdm(range(len(drugs))):\n",
    "            #for i in range(0, 10):\n",
    "                drug = drugs[i]\n",
    "                idDB = drug[0].text\n",
    "                drug_interaction = []\n",
    "                for idx,feature in enumerate(drug):\n",
    "                    if 'name' in str(feature): # drug name\n",
    "                        drug_name = drug[idx].text\n",
    "                        #print(drug_name)\n",
    "                    if 'groups' in str(feature): #type of drug\n",
    "                        group_name = list(drug[idx])[0].text\n",
    "                        #print(group_name)\n",
    "                    if 'drug-interactions' in str(feature): #interaction other drugs\n",
    "                        #drug_interaction_ids = ';'.join([di[0].text for di in list(drug[idx])])\n",
    "                       # drug_interaction = ';'.join([di[0].text for di in list(drug[idx])])\n",
    "                        drug_interaction=[di[0].text for di in list(drug[idx])]\n",
    "                        #print(drug_interaction)\n",
    "                    if 'atc-codes' in str(feature): #atc-codes\n",
    "                        atc_names = list(drug[idx])\n",
    "                        #print(group_name)\n",
    "                if (group_focus in group_name) and (len(atc_names)>0):\n",
    "                    drug_list.append((idDB, drug_name,group_name,drug_interaction))\n",
    "            for drug in drug_list:\n",
    "                interactions_list = drug[3]\n",
    "                new_interaction_list = []\n",
    "                for interaction in interactions_list:\n",
    "                    if search_drug_in_list(interaction,drug_list)==True:\n",
    "                        new_interaction_list.append(interaction)\n",
    "                drug_interaction_text =';'.join(new_interaction_list)\n",
    "                results_writer_cd.writerow([drug[0], drug[1], drug[2], drug_interaction_text])\n",
    "    except:\n",
    "        print(\"Failed to parse {0}\".format(db_entry[2]))"
   ]
  },
  {
   "cell_type": "code",
   "execution_count": 84,
   "metadata": {},
   "outputs": [
    {
     "name": "stderr",
     "output_type": "stream",
     "text": [
      " 11%|████████▎                                                                    | 832/7682 [00:00<00:00, 8257.11it/s]"
     ]
    },
    {
     "name": "stdout",
     "output_type": "stream",
     "text": [
      "Parsing database/3.0/drugbank.xml\n"
     ]
    },
    {
     "name": "stderr",
     "output_type": "stream",
     "text": [
      "100%|████████████████████████████████████████████████████████████████████████████| 7682/7682 [00:00<00:00, 8564.38it/s]\n",
      " 11%|████████▏                                                                    | 828/7759 [00:00<00:00, 8227.75it/s]"
     ]
    },
    {
     "name": "stdout",
     "output_type": "stream",
     "text": [
      "Parsing database/4.1/drugbank.xml\n"
     ]
    },
    {
     "name": "stderr",
     "output_type": "stream",
     "text": [
      "100%|████████████████████████████████████████████████████████████████████████████| 7759/7759 [00:00<00:00, 8401.52it/s]\n",
      " 16%|████████████▍                                                               | 1268/7759 [00:00<00:01, 6309.44it/s]"
     ]
    },
    {
     "name": "stdout",
     "output_type": "stream",
     "text": [
      "Parsing database/4.2/drugbank.xml\n"
     ]
    },
    {
     "name": "stderr",
     "output_type": "stream",
     "text": [
      "100%|████████████████████████████████████████████████████████████████████████████| 7759/7759 [00:01<00:00, 5837.18it/s]\n",
      " 14%|██████████▊                                                                 | 1168/8203 [00:00<00:01, 5506.79it/s]"
     ]
    },
    {
     "name": "stdout",
     "output_type": "stream",
     "text": [
      "Parsing database/4.3/drugbank.xml\n"
     ]
    },
    {
     "name": "stderr",
     "output_type": "stream",
     "text": [
      "100%|████████████████████████████████████████████████████████████████████████████| 8203/8203 [00:01<00:00, 5427.08it/s]\n",
      "  6%|████▉                                                                        | 525/8206 [00:00<00:01, 5247.75it/s]"
     ]
    },
    {
     "name": "stdout",
     "output_type": "stream",
     "text": [
      "Parsing database/4.5.0/drugbank.xml\n"
     ]
    },
    {
     "name": "stderr",
     "output_type": "stream",
     "text": [
      "100%|████████████████████████████████████████████████████████████████████████████| 8206/8206 [00:01<00:00, 5022.16it/s]\n",
      " 13%|█████████▋                                                                  | 1054/8217 [00:00<00:01, 5253.87it/s]"
     ]
    },
    {
     "name": "stdout",
     "output_type": "stream",
     "text": [
      "Parsing database/5.0.0/drugbank.xml\n"
     ]
    },
    {
     "name": "stderr",
     "output_type": "stream",
     "text": [
      "100%|████████████████████████████████████████████████████████████████████████████| 8217/8217 [00:01<00:00, 5231.12it/s]\n",
      "  3%|██▋                                                                          | 287/8221 [00:00<00:02, 2867.53it/s]"
     ]
    },
    {
     "name": "stdout",
     "output_type": "stream",
     "text": [
      "Parsing database/5.0.1/drugbank.xml\n"
     ]
    },
    {
     "name": "stderr",
     "output_type": "stream",
     "text": [
      "100%|████████████████████████████████████████████████████████████████████████████| 8221/8221 [00:03<00:00, 2614.41it/s]\n",
      "  6%|████▊                                                                        | 511/8233 [00:00<00:01, 5106.36it/s]"
     ]
    },
    {
     "name": "stdout",
     "output_type": "stream",
     "text": [
      "Parsing database/5.0.2/drugbank.xml\n"
     ]
    },
    {
     "name": "stderr",
     "output_type": "stream",
     "text": [
      "100%|████████████████████████████████████████████████████████████████████████████| 8233/8233 [00:01<00:00, 5864.39it/s]\n",
      " 10%|███████▋                                                                     | 818/8226 [00:00<00:01, 3959.17it/s]"
     ]
    },
    {
     "name": "stdout",
     "output_type": "stream",
     "text": [
      "Parsing database/5.0.3/drugbank.xml\n"
     ]
    },
    {
     "name": "stderr",
     "output_type": "stream",
     "text": [
      "100%|████████████████████████████████████████████████████████████████████████████| 8226/8226 [00:01<00:00, 5148.67it/s]\n"
     ]
    },
    {
     "name": "stdout",
     "output_type": "stream",
     "text": [
      "Failed to parse database/5.0.4/full_database.xml\n"
     ]
    },
    {
     "name": "stderr",
     "output_type": "stream",
     "text": [
      "  3%|██▌                                                                          | 278/8257 [00:00<00:02, 2769.66it/s]"
     ]
    },
    {
     "name": "stdout",
     "output_type": "stream",
     "text": [
      "Parsing database/5.0.5/full_database.xml\n"
     ]
    },
    {
     "name": "stderr",
     "output_type": "stream",
     "text": [
      "100%|████████████████████████████████████████████████████████████████████████████| 8257/8257 [00:02<00:00, 3761.59it/s]\n",
      " 12%|█████████▏                                                                   | 987/8283 [00:00<00:01, 4661.37it/s]"
     ]
    },
    {
     "name": "stdout",
     "output_type": "stream",
     "text": [
      "Parsing database/5.0.6/full_database.xml\n"
     ]
    },
    {
     "name": "stderr",
     "output_type": "stream",
     "text": [
      "100%|████████████████████████████████████████████████████████████████████████████| 8283/8283 [00:01<00:00, 6010.82it/s]\n",
      "  3%|█▉                                                                           | 244/9588 [00:00<00:03, 2426.25it/s]"
     ]
    },
    {
     "name": "stdout",
     "output_type": "stream",
     "text": [
      "Parsing database/5.0.7/full_database.xml\n"
     ]
    },
    {
     "name": "stderr",
     "output_type": "stream",
     "text": [
      "100%|████████████████████████████████████████████████████████████████████████████| 9588/9588 [00:05<00:00, 1650.19it/s]\n",
      "  3%|██▌                                                                         | 353/10499 [00:00<00:06, 1652.47it/s]"
     ]
    },
    {
     "name": "stdout",
     "output_type": "stream",
     "text": [
      "Parsing database/5.0.8/full_database.xml\n"
     ]
    },
    {
     "name": "stderr",
     "output_type": "stream",
     "text": [
      "100%|██████████████████████████████████████████████████████████████████████████| 10499/10499 [00:05<00:00, 1858.17it/s]\n",
      "  4%|███▏                                                                        | 441/10500 [00:00<00:02, 4395.21it/s]"
     ]
    },
    {
     "name": "stdout",
     "output_type": "stream",
     "text": [
      "Parsing database/5.0.9/full_database.xml\n"
     ]
    },
    {
     "name": "stderr",
     "output_type": "stream",
     "text": [
      "100%|██████████████████████████████████████████████████████████████████████████| 10500/10500 [00:02<00:00, 4676.49it/s]\n"
     ]
    },
    {
     "name": "stdout",
     "output_type": "stream",
     "text": [
      "Failed to parse database/5.0.10/full_database.xml\n",
      "Failed to parse database/5.0.11/full_database.xml\n"
     ]
    },
    {
     "name": "stderr",
     "output_type": "stream",
     "text": [
      "  2%|█▋                                                                          | 243/11033 [00:00<00:04, 2406.82it/s]"
     ]
    },
    {
     "name": "stdout",
     "output_type": "stream",
     "text": [
      "Parsing database/5.1.0/full_database.xml\n"
     ]
    },
    {
     "name": "stderr",
     "output_type": "stream",
     "text": [
      "100%|██████████████████████████████████████████████████████████████████████████| 11033/11033 [00:03<00:00, 3112.98it/s]\n",
      "  4%|██▋                                                                         | 404/11292 [00:00<00:05, 1954.47it/s]"
     ]
    },
    {
     "name": "stdout",
     "output_type": "stream",
     "text": [
      "Parsing database/5.1.1/full_database.xml\n"
     ]
    },
    {
     "name": "stderr",
     "output_type": "stream",
     "text": [
      "100%|██████████████████████████████████████████████████████████████████████████| 11292/11292 [00:03<00:00, 3674.22it/s]\n",
      "  2%|█▋                                                                          | 263/11922 [00:00<00:04, 2622.54it/s]"
     ]
    },
    {
     "name": "stdout",
     "output_type": "stream",
     "text": [
      "Parsing database/5.1.2/full_database.xml\n"
     ]
    },
    {
     "name": "stderr",
     "output_type": "stream",
     "text": [
      "100%|██████████████████████████████████████████████████████████████████████████| 11922/11922 [00:03<00:00, 3301.15it/s]\n",
      "  2%|█▍                                                                          | 225/12112 [00:00<00:05, 2240.83it/s]"
     ]
    },
    {
     "name": "stdout",
     "output_type": "stream",
     "text": [
      "Parsing database/5.1.3/full_database.xml\n"
     ]
    },
    {
     "name": "stderr",
     "output_type": "stream",
     "text": [
      "100%|██████████████████████████████████████████████████████████████████████████| 12112/12112 [00:02<00:00, 4196.95it/s]\n",
      "  2%|█▋                                                                          | 286/13339 [00:00<00:04, 2850.96it/s]"
     ]
    },
    {
     "name": "stdout",
     "output_type": "stream",
     "text": [
      "Parsing database/5.1.4/full_database.xml\n"
     ]
    },
    {
     "name": "stderr",
     "output_type": "stream",
     "text": [
      "100%|██████████████████████████████████████████████████████████████████████████| 13339/13339 [00:03<00:00, 3607.61it/s]\n",
      "  2%|█▌                                                                          | 287/13475 [00:00<00:04, 2850.16it/s]"
     ]
    },
    {
     "name": "stdout",
     "output_type": "stream",
     "text": [
      "Parsing database/5.1.5/full_database.xml\n"
     ]
    },
    {
     "name": "stderr",
     "output_type": "stream",
     "text": [
      "100%|██████████████████████████████████████████████████████████████████████████| 13475/13475 [00:03<00:00, 3381.81it/s]\n",
      "  1%|▍                                                                             | 71/13563 [00:00<00:19, 708.35it/s]"
     ]
    },
    {
     "name": "stdout",
     "output_type": "stream",
     "text": [
      "Parsing database/5.1.6/full_database.xml\n"
     ]
    },
    {
     "name": "stderr",
     "output_type": "stream",
     "text": [
      "100%|██████████████████████████████████████████████████████████████████████████| 13563/13563 [00:07<00:00, 1826.81it/s]\n",
      "  2%|█▎                                                                          | 238/13580 [00:00<00:05, 2365.61it/s]"
     ]
    },
    {
     "name": "stdout",
     "output_type": "stream",
     "text": [
      "Parsing database/5.1.7/full_database.xml\n"
     ]
    },
    {
     "name": "stderr",
     "output_type": "stream",
     "text": [
      "100%|██████████████████████████████████████████████████████████████████████████| 13580/13580 [00:04<00:00, 3174.64it/s]\n",
      "  0%|▎                                                                             | 63/14315 [00:00<00:22, 625.60it/s]"
     ]
    },
    {
     "name": "stdout",
     "output_type": "stream",
     "text": [
      "Parsing database/5.1.8/full_database.xml\n"
     ]
    },
    {
     "name": "stderr",
     "output_type": "stream",
     "text": [
      "100%|██████████████████████████████████████████████████████████████████████████| 14315/14315 [00:06<00:00, 2120.55it/s]\n"
     ]
    }
   ],
   "source": [
    "for item in DRUGBANK_DATABASES:\n",
    "    get_approved_drugs_interactions(item)"
   ]
  },
  {
   "cell_type": "code",
   "execution_count": null,
   "metadata": {},
   "outputs": [],
   "source": []
  }
 ],
 "metadata": {
  "kernelspec": {
   "display_name": "Python 3",
   "language": "python",
   "name": "python3"
  },
  "language_info": {
   "codemirror_mode": {
    "name": "ipython",
    "version": 3
   },
   "file_extension": ".py",
   "mimetype": "text/x-python",
   "name": "python",
   "nbconvert_exporter": "python",
   "pygments_lexer": "ipython3",
   "version": "3.8.8"
  }
 },
 "nbformat": 4,
 "nbformat_minor": 4
}
