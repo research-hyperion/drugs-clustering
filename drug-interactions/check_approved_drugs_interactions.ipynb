{
 "cells": [
  {
   "cell_type": "code",
   "execution_count": 1,
   "id": "70b76e1b-bbf5-407d-a612-05c1b67cf02d",
   "metadata": {},
   "outputs": [],
   "source": [
    "import csv\n",
    "import xml.etree.ElementTree as ET\n",
    "import time\n",
    "import io\n",
    "from tqdm import tqdm\n",
    "import pandas as pd\n",
    "import requests\n",
    "import json\n",
    "import logging\n",
    "from flatten_json import flatten"
   ]
  },
  {
   "cell_type": "code",
   "execution_count": 2,
   "id": "57a37343-ac08-47ed-9a64-a0451fc8d38e",
   "metadata": {},
   "outputs": [],
   "source": [
    "URL_API_INTERACTIONS:str = \"https://rxnav.nlm.nih.gov/REST/interaction/list.json?rxcuis={0}+{1}&source=DrugBank\""
   ]
  },
  {
   "cell_type": "code",
   "execution_count": 3,
   "id": "64bd4516-9891-4ecf-a27f-8017092edd0b",
   "metadata": {},
   "outputs": [],
   "source": [
    "URL_API_RXCUI:str =  \"https://rxnav.nlm.nih.gov/REST/rxcui.json\""
   ]
  },
  {
   "cell_type": "code",
   "execution_count": 4,
   "id": "a4f8be5f-85c1-4b27-825d-af15ac6349fd",
   "metadata": {},
   "outputs": [],
   "source": [
    "logging.basicConfig(filename='approved_drugs_log.log', level=logging.DEBUG)"
   ]
  },
  {
   "cell_type": "code",
   "execution_count": 5,
   "id": "23a51cc0-9b7c-4179-abdb-d9aac50916ee",
   "metadata": {},
   "outputs": [],
   "source": [
    "ERRORS_LIST = [\n",
    "    (0, \"SUCCESS\"),\n",
    "    (1, \"Error in parsing RXCUI response JSON for drug {0}.\"),\n",
    "    (2, \"JSON RXCUI for drug {0} is empty.\"),\n",
    "    (3, \"Index Error while checking the interactions between {0} and {1}.\"),\n",
    "    (4, \"N/A\"),\n",
    "    (5, \"Error in parsing interactions between {0}-{1} response JSON.\")\n",
    "]"
   ]
  },
  {
   "cell_type": "code",
   "execution_count": 6,
   "id": "aaf48feb-b1d6-481d-b3a5-dfc4150f9e45",
   "metadata": {},
   "outputs": [],
   "source": [
    "def get_rxcui(drugid:str):\n",
    "    response = requests.get(URL_API_RXCUI,params={\"idtype\":\"Drugbank\",\"id\":drugid})\n",
    "    #print(response.json())\n",
    "    try:\n",
    "        json_response = response.json()['idGroup']['rxnormId']\n",
    "        if not json_response:\n",
    "            error_code = ERRORS_LIST[1]\n",
    "            error_message = error_code[1].format(drugid)\n",
    "            return error_code[0],error_message\n",
    "        return 0,json_response.pop()\n",
    "    except:\n",
    "        error_code = ERRORS_LIST[2]\n",
    "        error_message = error_code[1].format(drugid)\n",
    "        return error_code[0],error_message\n",
    "        "
   ]
  },
  {
   "cell_type": "code",
   "execution_count": 79,
   "id": "5eef9432-db95-4e84-b519-6a11a530f4db",
   "metadata": {},
   "outputs": [],
   "source": [
    "def flatten_json(y):\n",
    "    out = {}\n",
    "    def flatten(x, name=''):\n",
    "        if type(x) is dict:\n",
    "            for a in x:\n",
    "                flatten(x[a], name + a + '_')\n",
    "        elif type(x) is list:\n",
    "            i = 0\n",
    "            for a in x:\n",
    "                flatten(a, name + str(i) + '_')\n",
    "                i += 1\n",
    "        else:\n",
    "            out[name[:-1]] = x\n",
    "\n",
    "    flatten(y)\n",
    "    return out"
   ]
  },
  {
   "cell_type": "code",
   "execution_count": 13,
   "id": "0b939108-65fa-4f2f-a48b-b8f6d8e20705",
   "metadata": {},
   "outputs": [],
   "source": [
    "def check_interactions(drug_f:str, drug_s:str):\n",
    "    api = URL_API_INTERACTIONS.format(drug_f,drug_s)\n",
    "    response = requests.get(api)\n",
    "    try:\n",
    "        response_json = response.json()\n",
    "        flatten_json = flatten(response_json)\n",
    "        for key, value in flatten_json.items():\n",
    "            if \"severity\" in key and \"N/A\" not in value:\n",
    "                return 0, value\n",
    "            else:\n",
    "                continue\n",
    "    except:\n",
    "            error_code = ERRORS_LIST[5]\n",
    "            error_message = error_code[1].format(drug_f,drug_s)\n",
    "            return error_code[0],error_message\n",
    "        "
   ]
  },
  {
   "cell_type": "code",
   "execution_count": 14,
   "id": "5f5bbce3-f55b-43b6-9ded-f27f338aa8ca",
   "metadata": {},
   "outputs": [
    {
     "data": {
      "text/plain": [
       "(0, 'high')"
      ]
     },
     "execution_count": 14,
     "metadata": {},
     "output_type": "execute_result"
    }
   ],
   "source": [
    "check_interactions(\"152923\",\"207106\")\n"
   ]
  },
  {
   "cell_type": "code",
   "execution_count": 15,
   "id": "e52faa2a-8db2-4ce7-b375-5e16b36d7b53",
   "metadata": {},
   "outputs": [],
   "source": [
    "DRUGBANK_DATABASES:list() = [\n",
    "    (0,\"DB 3.0\",\"database/3.0/drugbank.xml\",2013),\n",
    "    (1,\"DB 4.1\",\"database/4.1/drugbank.xml\",2014), #not sure about year\n",
    "    (2,\"DB 4.2\",\"database/4.2/drugbank.xml\",2015), #not sure about year\n",
    "    (3,\"DB 4.3\",\"database/4.3/drugbank.xml\",2015),\n",
    "    (4,\"DB 4.5\",\"database/4.5.0/drugbank.xml\",2016),\n",
    "    (5,\" DB 5.0\",\"database/5.0.0/drugbank.xml\",2016),\n",
    "    (6,\"DB 5.0.1\",\"database/5.0.1/drugbank.xml\",2016),\n",
    "    (7,\"DB 5.0.2\",\"database/5.0.2/drugbank.xml\",2016),\n",
    "    (8,\"DB 5.0.3\",\"database/5.0.3/drugbank.xml\",2016),\n",
    "    (9,\"DB 5.0.4\",\"database/5.0.4/full_database.xml\",2017),\n",
    "    (10,\"DB 5.0.5\",\"database/5.0.5/full_database.xml\",2017),\n",
    "    (11,\"DB 5.0.6\",\"database/5.0.6/full_database.xml\",2017),\n",
    "    (12,\"DB 5.0.7\",\"database/5.0.7/full_database.xml\",2017),\n",
    "    (13,\"DB 5.0.8\",\"database/5.0.8/full_database.xml\",2017),\n",
    "    (14,\"DB 5.0.9\",\"database/5.0.9/full_database.xml\",2017), \n",
    "    (15,\"DB 5.0.10\",\"database/5.0.10/full_database.xml\",2017),\n",
    "    (16,\"DB 5.0.11\",\"database/5.0.11/full_database.xml\",2017),\n",
    "    (17,\"DB 5.1.0\",\"database/5.1.0/full_database.xml\",2018),\n",
    "    (18,\"DB 5.1.1\",\"database/5.1.1/full_database.xml\",2018),\n",
    "    (19,\"DB 5.1.2\",\"database/5.1.2/full_database.xml\",2018),\n",
    "    (20,\"DB 5.1.3\",\"database/5.1.3/full_database.xml\",2019),\n",
    "    (21,\"DB 5.1.4\",\"database/5.1.4/full_database.xml\",2019),\n",
    "    (22,\"DB 5.1.5\",\"database/5.1.5/full_database.xml\",2020),\n",
    "    (23,\"DB 5.1.6\",\"database/5.1.6/full_database.xml\",2020),\n",
    "    (24,\"DB 5.1.7\",\"database/5.1.7/full_database.xml\",2020),\n",
    "    (25,\"DB 5.1.8\",\"database/5.1.8/full_database.xml\",2021)\n",
    "]"
   ]
  },
  {
   "cell_type": "code",
   "execution_count": 16,
   "id": "a7cbe141-08bf-49a0-acfb-093bc3f56ca8",
   "metadata": {},
   "outputs": [
    {
     "ename": "TypeError",
     "evalue": "'NoneType' object is not subscriptable",
     "output_type": "error",
     "traceback": [
      "\u001b[1;31m---------------------------------------------------------------------------\u001b[0m",
      "\u001b[1;31mTypeError\u001b[0m                                 Traceback (most recent call last)",
      "\u001b[1;32m<ipython-input-16-d087a3a2596a>\u001b[0m in \u001b[0;36m<module>\u001b[1;34m\u001b[0m\n\u001b[0;32m     28\u001b[0m             \u001b[1;31m#Check for interaction!\u001b[0m\u001b[1;33m\u001b[0m\u001b[1;33m\u001b[0m\u001b[1;33m\u001b[0m\u001b[0m\n\u001b[0;32m     29\u001b[0m             \u001b[0minteraction_strength\u001b[0m \u001b[1;33m=\u001b[0m \u001b[0mcheck_interactions\u001b[0m\u001b[1;33m(\u001b[0m\u001b[0mdrug_rxcui\u001b[0m\u001b[1;33m[\u001b[0m\u001b[1;36m1\u001b[0m\u001b[1;33m]\u001b[0m\u001b[1;33m,\u001b[0m \u001b[0minteraction_drug_rxcui\u001b[0m\u001b[1;33m[\u001b[0m\u001b[1;36m1\u001b[0m\u001b[1;33m]\u001b[0m\u001b[1;33m)\u001b[0m\u001b[1;33m\u001b[0m\u001b[1;33m\u001b[0m\u001b[0m\n\u001b[1;32m---> 30\u001b[1;33m             \u001b[1;32mif\u001b[0m \u001b[0minteraction_strength\u001b[0m\u001b[1;33m[\u001b[0m\u001b[1;36m0\u001b[0m\u001b[1;33m]\u001b[0m\u001b[1;33m!=\u001b[0m\u001b[1;36m0\u001b[0m\u001b[1;33m:\u001b[0m\u001b[1;33m\u001b[0m\u001b[1;33m\u001b[0m\u001b[0m\n\u001b[0m\u001b[0;32m     31\u001b[0m                 \u001b[0mlogging\u001b[0m\u001b[1;33m.\u001b[0m\u001b[0merror\u001b[0m\u001b[1;33m(\u001b[0m\u001b[0minteraction_drug_rxcui\u001b[0m\u001b[1;33m[\u001b[0m\u001b[1;36m1\u001b[0m\u001b[1;33m]\u001b[0m\u001b[1;33m)\u001b[0m\u001b[1;33m\u001b[0m\u001b[1;33m\u001b[0m\u001b[0m\n\u001b[0;32m     32\u001b[0m                 \u001b[1;32mcontinue\u001b[0m\u001b[1;33m\u001b[0m\u001b[1;33m\u001b[0m\u001b[0m\n",
      "\u001b[1;31mTypeError\u001b[0m: 'NoneType' object is not subscriptable"
     ]
    }
   ],
   "source": [
    "#for db_entry in DRUGBANK_DATABASES:\n",
    "# for i in tqdm(range(len(DRUGBANK_DATABASES))):\n",
    "db_entry = DRUGBANK_DATABASES[0]\n",
    "database_name = db_entry[1].replace(\".\",\"_\")\n",
    "database_name_trim = database_name.replace(\" \",\"\")\n",
    "input_csv_file = \"database/approved_only/\"+database_name_trim+\"_approved_drugs.csv\"\n",
    "output_csv_file = \"database/interactions/\"+database_name_trim+\"_interaction_strength.csv\"\n",
    "df = pd.read_csv(input_csv_file)\n",
    "#create header for dataframe\n",
    "out_df =  pd.DataFrame(columns=['DrugDB_Id', \"InteractionDB_Id\",\"Interaction_Strength\"])\n",
    "#iterate on each row from csv file\n",
    "for index, row in df.iterrows():\n",
    "    drug_db_id = row['DB_id']\n",
    "    drug_interactions = row['DB_interactions']\n",
    "    if not pd.isna(drug_interactions):\n",
    "        drug_interactions_list = drug_interactions.split(';')\n",
    "        #get rxcui for target drug\n",
    "        drug_rxcui = get_rxcui(drug_db_id)\n",
    "        #if the rxcui for the target drug is not found, just to the next row\n",
    "        if drug_rxcui[0]!=0:\n",
    "            logging.warning(drug_rxcui[1])\n",
    "            continue\n",
    "        for drug in drug_interactions_list:\n",
    "            interaction_drug_rxcui = get_rxcui(drug)\n",
    "            if interaction_drug_rxcui[0]!=0:\n",
    "                logging.warning(interaction_drug_rxcui[1])\n",
    "                continue\n",
    "            #Check for interaction!\n",
    "            interaction_strength = check_interactions(drug_rxcui[1], interaction_drug_rxcui[1])\n",
    "            if interaction_strength[0]!=0:\n",
    "                logging.error(interaction_drug_rxcui[1])\n",
    "                continue\n",
    "            out_df = df.append({'DrugDB_Id': drug_db_id,'InteractionDB_Id':drug,'Interaction_Strength':interaction_strength[1]}, ignore_index=True)\n",
    "    else:\n",
    "        logging.info(\"No interactions found\")\n",
    "out_df.to_csv(output_csv_file, index=False)     \n"
   ]
  },
  {
   "cell_type": "code",
   "execution_count": null,
   "id": "62cf8dda-0583-4b29-b8fc-b6c2abcc5ed3",
   "metadata": {},
   "outputs": [],
   "source": []
  },
  {
   "cell_type": "code",
   "execution_count": null,
   "id": "a6bfb419-56d6-4216-b823-e37e966242ab",
   "metadata": {},
   "outputs": [],
   "source": []
  }
 ],
 "metadata": {
  "kernelspec": {
   "display_name": "Python 3",
   "language": "python",
   "name": "python3"
  },
  "language_info": {
   "codemirror_mode": {
    "name": "ipython",
    "version": 3
   },
   "file_extension": ".py",
   "mimetype": "text/x-python",
   "name": "python",
   "nbconvert_exporter": "python",
   "pygments_lexer": "ipython3",
   "version": "3.8.8"
  }
 },
 "nbformat": 4,
 "nbformat_minor": 5
}
